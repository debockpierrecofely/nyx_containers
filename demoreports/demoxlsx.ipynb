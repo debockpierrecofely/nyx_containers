{
 "cells": [
  {
   "cell_type": "markdown",
   "metadata": {},
   "source": [
    "### All blocks with the #@ONLOAD tag are loaded at startup"
   ]
  },
  {
   "cell_type": "code",
   "execution_count": null,
   "metadata": {},
   "outputs": [],
   "source": [
    "#@ONLOAD\n",
    "\n",
    "import pandas as pd\n",
    "from elastic_helper import es_helper\n",
    "\n",
    "logger.info(\"Creating report\")\n",
    "logger.info(report)\n",
    "\n",
    "start=replacementHT[\"param2_start\"]\n",
    "end=replacementHT[\"param2_end\"]\n",
    "logger.info(\"Start %s\" % start)\n",
    "logger.info(\"End   %s\" % end)\n",
    "\n",
    "df=es_helper.elastic_to_dataframe(es,start=start,end=end,index=\"nyx_api*\")\n",
    "    \n",
    "writer = pd.ExcelWriter(report[\"output\"]+'.xlsx', engine='xlsxwriter')   \n",
    "df.to_excel(writer, sheet_name='Logs')\n",
    "writer.close()\n",
    "\n"
   ]
  },
  {
   "cell_type": "markdown",
   "metadata": {},
   "source": [
    "### Test BLOCKS"
   ]
  },
  {
   "cell_type": "code",
   "execution_count": null,
   "metadata": {},
   "outputs": [],
   "source": [
    "from elasticsearch import Elasticsearch as ES, RequestsHttpConnection as RC\n",
    "import pandas as pd\n",
    "import collections\n",
    "from datetime import datetime\n",
    "from elastic_helper import es_helper\n",
    "import logging\n",
    "\n",
    "logger=logging.getLogger()\n",
    "\n",
    "host_params=\"http://esnodebal:9200\"\n",
    "es = ES(hosts=[host_params])\n",
    "\n",
    "es.info()"
   ]
  },
  {
   "cell_type": "code",
   "execution_count": null,
   "metadata": {},
   "outputs": [],
   "source": [
    "df=es_helper.elastic_to_dataframe(es,start=datetime(2019,1,1),end=datetime.now(),index=\"nyx_api*\")\n",
    "df"
   ]
  }
 ],
 "metadata": {
  "kernelspec": {
   "display_name": "Python 3",
   "language": "python",
   "name": "python3"
  },
  "language_info": {
   "codemirror_mode": {
    "name": "ipython",
    "version": 3
   },
   "file_extension": ".py",
   "mimetype": "text/x-python",
   "name": "python",
   "nbconvert_exporter": "python",
   "pygments_lexer": "ipython3",
   "version": "3.7.3"
  }
 },
 "nbformat": 4,
 "nbformat_minor": 2
}
